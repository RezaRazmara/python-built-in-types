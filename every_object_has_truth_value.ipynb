{
 "cells": [
  {
   "cell_type": "markdown",
   "id": "4cb2087c-1330-48a8-af8a-772fdd7352ed",
   "metadata": {
    "tags": []
   },
   "source": [
    "<h1><center>Everything in Python is an object and has a truth value!</center></h1>"
   ]
  },
  {
   "cell_type": "markdown",
   "id": "b100d024-387b-4046-9fd4-e8b45bbf700e",
   "metadata": {},
   "source": [
    "<b>Each object</b> in python has a truth value and it's <b>True</b> or <b>False</b>.\n",
    "It means that, an object can be used in <b>if</b> or <b>while</b> condition or as <b>operand</b> of boolean operation operations."
   ]
  },
  {
   "cell_type": "markdown",
   "id": "17f246f6-5be4-4b13-ab5b-f3aae3eb7b48",
   "metadata": {},
   "source": [
    "***"
   ]
  },
  {
   "cell_type": "markdown",
   "id": "25e964f3-96cb-4f98-a1b8-3d68ef1959a3",
   "metadata": {
    "tags": []
   },
   "source": [
    "<center><h2> 1. True Objects </h2></center>"
   ]
  },
  {
   "cell_type": "markdown",
   "id": "5561b5c2-0314-4cb6-905d-81af08dca5ab",
   "metadata": {},
   "source": [
    "***"
   ]
  },
  {
   "cell_type": "markdown",
   "id": "2ae0ca94-23f7-4250-b46e-805051fb4c14",
   "metadata": {
    "tags": []
   },
   "source": [
    "- modules, packages and libraries are True"
   ]
  },
  {
   "cell_type": "code",
   "execution_count": 1,
   "id": "7f0d10d7-d644-4de2-9302-049e17c38e31",
   "metadata": {},
   "outputs": [
    {
     "name": "stdout",
     "output_type": "stream",
     "text": [
      "modules(random is a built-in module) are True\n",
      "packages(numpy is a package) are True\n"
     ]
    }
   ],
   "source": [
    "# modules, packages, libraries are True\n",
    "import random # random module is True\n",
    "import numpy as np # numpy module is True\n",
    "\n",
    "print('modules(random is a built-in module) are', bool(random))\n",
    "print('packages(numpy is a package) are', bool(np))"
   ]
  },
  {
   "cell_type": "markdown",
   "id": "44b7035c-6747-44e9-b79a-2f1e924f4bf4",
   "metadata": {
    "tags": []
   },
   "source": [
    "- functions are True"
   ]
  },
  {
   "cell_type": "code",
   "execution_count": 2,
   "id": "128150bf-37f1-44c6-ae59-adce92d0269b",
   "metadata": {},
   "outputs": [
    {
     "name": "stdout",
     "output_type": "stream",
     "text": [
      "funcitons are True\n"
     ]
    }
   ],
   "source": [
    "# functions are True.\n",
    "def func():\n",
    "    pass\n",
    "\n",
    "print('funcitons are', bool(func))"
   ]
  },
  {
   "cell_type": "markdown",
   "id": "392097ac-4388-405b-9bec-30272c7d6eed",
   "metadata": {},
   "source": [
    "- classes are True"
   ]
  },
  {
   "cell_type": "code",
   "execution_count": 3,
   "id": "023ae203-27c5-4d4c-8312-fea7d8365c7a",
   "metadata": {},
   "outputs": [
    {
     "name": "stdout",
     "output_type": "stream",
     "text": [
      "classes are True\n"
     ]
    }
   ],
   "source": [
    "# class is an object itself and is True.\n",
    "class MyClass:\n",
    "    pass\n",
    "\n",
    "print('classes are', bool(MyClass))"
   ]
  },
  {
   "cell_type": "markdown",
   "id": "380405b1-aa2a-4a7b-af7a-d4f71d507205",
   "metadata": {},
   "source": [
    "- methods are True"
   ]
  },
  {
   "cell_type": "code",
   "execution_count": 4,
   "id": "28be73a2-22a5-41e8-8df5-c769ca2cc3be",
   "metadata": {},
   "outputs": [
    {
     "name": "stdout",
     "output_type": "stream",
     "text": [
      "methods are True\n"
     ]
    }
   ],
   "source": [
    "# methods are True\n",
    "class MyClass:\n",
    "    def __init__(self):\n",
    "        self.value = 1\n",
    "    \n",
    "    # It's a method.\n",
    "    def increase(self):\n",
    "        self.value = self.value + 1\n",
    "\n",
    "my_object = MyClass()\n",
    "print('methods are',bool(my_object.increase))"
   ]
  },
  {
   "cell_type": "markdown",
   "id": "daeb1843-7c6a-4670-9e24-d956763e4c84",
   "metadata": {},
   "source": [
    "- True Built-in types:\n",
    "  - True\n",
    "  - non-zero int\n",
    "  - non-zero float\n",
    "  - non-empty str"
   ]
  },
  {
   "cell_type": "code",
   "execution_count": 5,
   "id": "7b386696-a8a9-4d6f-8963-d27bbcacbab1",
   "metadata": {},
   "outputs": [
    {
     "name": "stdout",
     "output_type": "stream",
     "text": [
      "1 \t->\t True\n",
      "-1 \t->\t True\n",
      "(-1+1j) ->\t True\n",
      "True \t->\t True\n",
      "0.01 \t->\t True\n",
      "-0.01 \t->\t True\n",
      "hi \t->\t True\n"
     ]
    }
   ],
   "source": [
    "print(1,'\\t->\\t', bool(1)) # non-zero int\n",
    "print(-1,'\\t->\\t', bool(-1)) # non-zero int\n",
    "print(complex('-1+j'),'->\\t', bool(complex('-1+j'))) # non-zero complex\n",
    "print(True, '\\t->\\t', bool(True)) # True bool\n",
    "print(0.01,'\\t->\\t', bool(0.01)) # non-zero float\n",
    "print(-0.01, '\\t->\\t', bool(-0.01)) # non-zero float\n",
    "print('hi','\\t->\\t', bool(\"hi\")) # non-empty string\n"
   ]
  },
  {
   "cell_type": "markdown",
   "id": "9eb0cdd5-8cc8-42d8-82c4-f4f681a3c51d",
   "metadata": {},
   "source": [
    "- <b>True</b> Built-in data structures:\n",
    "  - non-empty <b>list</b> \n",
    "  - non-empty <b>tuple</b>\n",
    "  - non-empty <b>set</b>\n",
    "  - non-empty <b>range</b>\n",
    "  - non-empty <b>dict</b>"
   ]
  },
  {
   "cell_type": "code",
   "execution_count": 6,
   "id": "97f394bb-d3a1-4cd7-9158-d21e8af1d469",
   "metadata": {},
   "outputs": [
    {
     "name": "stdout",
     "output_type": "stream",
     "text": [
      "[1, 2, 3] \t->\t True\n",
      "(1, 2, 3) \t->\t True\n",
      "{1, 2, 3} \t->\t True\n",
      "range(0, 2) \t->\t True\n",
      "{'Jim': '+23453', 'Sara': '+79345'} \t->\t True\n"
     ]
    }
   ],
   "source": [
    "print([1,2,3], '\\t->\\t',bool([1,2,3])) # non-empty list\n",
    "print((1,2,3), '\\t->\\t',bool((1,2,3))) # non-empty tuple\n",
    "print({1,2,3}, '\\t->\\t',bool({1,2,3})) # non-empty set\n",
    "print(range(2), '\\t->\\t',bool(range(2))) # non-empty range\n",
    "print({'Jim': '+23453', 'Sara': '+79345'},'\\t->\\t', bool({'Jim': '+23453', 'Sara': '+79345'})) # non-empty dictionary\n"
   ]
  },
  {
   "cell_type": "markdown",
   "id": "01fb6dc1-b9e1-4be1-b07c-7399929943a1",
   "metadata": {},
   "source": [
    "- other objects\n",
    "  - Elipsis\n",
    "  - NotImplemented"
   ]
  },
  {
   "cell_type": "code",
   "execution_count": 7,
   "id": "4b4d2734-0e81-4ea4-8833-5b4d27318ec4",
   "metadata": {},
   "outputs": [
    {
     "name": "stdout",
     "output_type": "stream",
     "text": [
      "True\n",
      "True\n"
     ]
    },
    {
     "name": "stderr",
     "output_type": "stream",
     "text": [
      "C:\\Users\\Reza\\AppData\\Local\\Temp\\ipykernel_6148\\1587832201.py:2: DeprecationWarning: NotImplemented should not be used in a boolean context\n",
      "  print(bool(NotImplemented)) #NotImplemented object to show a function or code block which is not implemented!\n"
     ]
    }
   ],
   "source": [
    "print(bool(...)) # Ellipsis object is True\n",
    "print(bool(NotImplemented)) #NotImplemented object to show a function or code block which is not implemented!"
   ]
  },
  {
   "cell_type": "markdown",
   "id": "12bbf952-ee9b-4204-b461-a0f50a8ec93c",
   "metadata": {},
   "source": [
    "***"
   ]
  },
  {
   "cell_type": "markdown",
   "id": "ef572ab6-7ca9-427c-a303-e8bea21e6bfa",
   "metadata": {
    "tags": []
   },
   "source": [
    "<center><h2> 2. False Objects</h2></center>"
   ]
  },
  {
   "cell_type": "markdown",
   "id": "6bd3652c-e7b7-4969-af71-11024ec1b1ca",
   "metadata": {},
   "source": [
    "***"
   ]
  },
  {
   "cell_type": "markdown",
   "id": "a685a3de-599d-47a1-8083-771e3e958ea0",
   "metadata": {},
   "source": [
    "- False built-in types:\n",
    "  - None\n",
    "  - 0\n",
    "  - 0j\n",
    "  - 0.0\n",
    "  - False\n",
    "  - '' or \"\""
   ]
  },
  {
   "cell_type": "code",
   "execution_count": 8,
   "id": "8de551d1-6532-46d6-bb2a-b74cb750ece2",
   "metadata": {},
   "outputs": [
    {
     "name": "stdout",
     "output_type": "stream",
     "text": [
      "None \t->\t False\n",
      "0 \t->\t False\n",
      "0j \t->\t False\n",
      "False \t->\t False\n",
      "0.0 \t->\t False\n",
      "-0.0 \t->\t False\n",
      "\"\" \t->\t False\n",
      "'' \t->\t False\n"
     ]
    }
   ],
   "source": [
    "print(None,'\\t->\\t',bool(None))\n",
    "print(0,'\\t->\\t',bool(0)) # int zero\n",
    "print(complex('0'),'\\t->\\t', bool(complex('0'))) # zero complex\n",
    "print(False,'\\t->\\t',bool(False)) # False bool\n",
    "print(0.0,'\\t->\\t',bool(0.0)) # float zero\n",
    "print(-0.000,'\\t->\\t',bool(-0.0000)) # float zero\n",
    "print('\"\"','\\t->\\t',bool(\"\")) # empty strings\n",
    "print(\"''\",'\\t->\\t',bool('')) # empty strings"
   ]
  },
  {
   "cell_type": "markdown",
   "id": "54f8086d-0d5c-4c12-a8b9-ed1dd62509f8",
   "metadata": {},
   "source": [
    "- False built-in data structures:\n",
    "  - empty list \n",
    "  - empty tuple \n",
    "  - empty set \n",
    "  - empty dict"
   ]
  },
  {
   "cell_type": "code",
   "execution_count": 9,
   "id": "8b7bfdfd-f80d-4340-900f-23b460ab17cb",
   "metadata": {},
   "outputs": [
    {
     "name": "stdout",
     "output_type": "stream",
     "text": [
      "[] -> False\n",
      "() -> False\n",
      "set() -> False\n",
      "{} -> False\n",
      "range(0, 0) -> False\n"
     ]
    }
   ],
   "source": [
    "print([],'->',bool([])) # empty list\n",
    "print((),'->',bool(())) # empty tuple\n",
    "print(set(),'->',bool(set())) # empty set\n",
    "print({},'->',bool({})) # empty dictionary\n",
    "print(range(0),'->',bool(range(0))) # empty range"
   ]
  },
  {
   "cell_type": "markdown",
   "id": "22e34741-96cd-46dd-888e-ea06656486c7",
   "metadata": {},
   "source": [
    "***"
   ]
  },
  {
   "cell_type": "markdown",
   "id": "0b90614a-9e54-42ae-81de-3c30f8e76684",
   "metadata": {
    "tags": []
   },
   "source": [
    "<center><h2> 3. Programmer specifies the Truth of object with<br> __ bool __ method</h2></center>"
   ]
  },
  {
   "cell_type": "markdown",
   "id": "360a2b4e-d540-48ca-ba88-0648570d64ae",
   "metadata": {},
   "source": [
    "***"
   ]
  },
  {
   "cell_type": "markdown",
   "id": "2e3e3cf2-bb2c-485d-9e8d-ae95cb359ef6",
   "metadata": {
    "tags": []
   },
   "source": [
    "### Programmer objects"
   ]
  },
  {
   "cell_type": "markdown",
   "id": "64df88f0-5cf9-4774-8f63-6f97a63691ee",
   "metadata": {},
   "source": [
    "- You can specify, when the object is True or False with __ bool __ method."
   ]
  },
  {
   "cell_type": "markdown",
   "id": "d189a1f5-d1fe-45c6-9aae-c19bf908c2a1",
   "metadata": {},
   "source": [
    "- Example 1:\n",
    "  - If student's grade was below 10 the student fails and becomes False, If its grade was above or equal to 10 the student passes the test."
   ]
  },
  {
   "cell_type": "code",
   "execution_count": 10,
   "id": "86444554-fcb1-4795-b3c6-4cd34592cb39",
   "metadata": {},
   "outputs": [
    {
     "name": "stdout",
     "output_type": "stream",
     "text": [
      "Sara didn't passed the test!\n",
      "Jim passed the test!\n"
     ]
    }
   ],
   "source": [
    "class Student:\n",
    "    def __init__(self, name, grade):\n",
    "        self.name = name\n",
    "        self.grade = grade\n",
    "    \n",
    "    def __bool__(self):\n",
    "        if self.grade >= 10:\n",
    "            return True\n",
    "        else:\n",
    "            return False\n",
    "\n",
    "jim = Student('Jim', 14)\n",
    "sara = Student('Sara', 7.9)\n",
    "students = [sara, jim]\n",
    "\n",
    "for student in students:\n",
    "    if student: # Now student can be used as a condition of if clause.\n",
    "        print(student.name, 'passed the test!')\n",
    "    else:\n",
    "        print(student.name, \"didn't passed the test!\")"
   ]
  },
  {
   "cell_type": "markdown",
   "id": "8a43674e-4221-47c5-b62a-3e61394a1690",
   "metadata": {},
   "source": [
    "- Example 2:\n",
    "  - If cache's size becomes more than five, Its truth value becomes False, otherwise it's True."
   ]
  },
  {
   "cell_type": "code",
   "execution_count": 11,
   "id": "06bd2ee0-d7ce-4d9d-b87e-82569fc8c7cd",
   "metadata": {},
   "outputs": [],
   "source": [
    "class CacheOfFiveElements:\n",
    "    def __init__(self):\n",
    "        self.elements = []\n",
    "        \n",
    "    def add(self, element):\n",
    "        self.elements.append(element)\n",
    "    \n",
    "    # when the object has less than 5 elements the object is True, otherwise its Flase.\n",
    "    def __bool__(self):\n",
    "        if len(self.elements) >= 5:\n",
    "            return False\n",
    "        else:\n",
    "            return True\n",
    "    \n",
    "    def __repr__(self):\n",
    "        return ', '.join(str(x) for x in self.elements)\n",
    "        "
   ]
  },
  {
   "cell_type": "code",
   "execution_count": 12,
   "id": "54ae0518-e767-4efe-8f06-fd4876637068",
   "metadata": {},
   "outputs": [
    {
     "name": "stdout",
     "output_type": "stream",
     "text": [
      "0, 1, 2, 3, 4\n"
     ]
    }
   ],
   "source": [
    "cacheof5 = CacheOfFiveElements()\n",
    "for element in range(10):\n",
    "    if cacheof5: # it becomes False if the numbers of elements exceeds 5 ,otherwise it's True\n",
    "        cacheof5.add(element)\n",
    " \n",
    "print(cacheof5)"
   ]
  }
 ],
 "metadata": {
  "kernelspec": {
   "display_name": "Python 3 (ipykernel)",
   "language": "python",
   "name": "python3"
  },
  "language_info": {
   "codemirror_mode": {
    "name": "ipython",
    "version": 3
   },
   "file_extension": ".py",
   "mimetype": "text/x-python",
   "name": "python",
   "nbconvert_exporter": "python",
   "pygments_lexer": "ipython3",
   "version": "3.10.6"
  }
 },
 "nbformat": 4,
 "nbformat_minor": 5
}
